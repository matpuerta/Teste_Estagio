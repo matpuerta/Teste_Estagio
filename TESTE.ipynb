{
  "nbformat": 4,
  "nbformat_minor": 0,
  "metadata": {
    "colab": {
      "provenance": [],
      "authorship_tag": "ABX9TyMsTE7SYV+TSrYZudrcr88f",
      "include_colab_link": true
    },
    "kernelspec": {
      "name": "python3",
      "display_name": "Python 3"
    },
    "language_info": {
      "name": "python"
    }
  },
  "cells": [
    {
      "cell_type": "markdown",
      "metadata": {
        "id": "view-in-github",
        "colab_type": "text"
      },
      "source": [
        "<a href=\"https://colab.research.google.com/github/matpuerta/Teste_Estagio/blob/main/TESTE.ipynb\" target=\"_parent\"><img src=\"https://colab.research.google.com/assets/colab-badge.svg\" alt=\"Open In Colab\"/></a>"
      ]
    },
    {
      "cell_type": "markdown",
      "source": [
        "Numero 1"
      ],
      "metadata": {
        "id": "B26uN6BuGzuM"
      }
    },
    {
      "cell_type": "code",
      "execution_count": 2,
      "metadata": {
        "colab": {
          "base_uri": "https://localhost:8080/"
        },
        "id": "YgAJPzyb9D7S",
        "outputId": "55dee206-1bdd-4bef-9ea6-e5caf1cbe4cd"
      },
      "outputs": [
        {
          "output_type": "stream",
          "name": "stdout",
          "text": [
            "91\n"
          ]
        }
      ],
      "source": [
        "# Declarando variáveis\n",
        "INDICE = 13\n",
        "SOMA = 0\n",
        "K = 0\n",
        "\n",
        "# Gerando um loop\n",
        "while K < INDICE:\n",
        "    K = K + 1\n",
        "    SOMA = SOMA + K\n",
        "\n",
        "# Resultado\n",
        "print(SOMA)\n"
      ]
    },
    {
      "cell_type": "markdown",
      "source": [
        "Numero 2"
      ],
      "metadata": {
        "id": "pua3QKGJG5gF"
      }
    },
    {
      "cell_type": "code",
      "source": [
        "# Criando a função de fibonacci\n",
        "def fibonacci(n):\n",
        "    a, b = 0, 1\n",
        "    while a < n:\n",
        "        a, b = b, a + b\n",
        "    return a == n\n",
        "\n",
        "# Número informado pelo usuário\n",
        "numero_informado = int(input(\"Informe um número: \"))\n",
        "\n",
        "# Verificando se o número pertence à sequência de Fibonacci\n",
        "if fibonacci(numero_informado):\n",
        "    print(f\"O número {numero_informado} pertence à sequência de Fibonacci.\")\n",
        "else:\n",
        "    print(f\"O número {numero_informado} NÃO pertence à sequência de Fibonacci.\")\n"
      ],
      "metadata": {
        "colab": {
          "base_uri": "https://localhost:8080/"
        },
        "id": "jicbfGD39lFi",
        "outputId": "afc7ead0-4908-4815-df5e-acd9f3a66e10"
      },
      "execution_count": 4,
      "outputs": [
        {
          "output_type": "stream",
          "name": "stdout",
          "text": [
            "Informe um número: 8\n",
            "O número 8 pertence à sequência de Fibonacci.\n"
          ]
        }
      ]
    },
    {
      "cell_type": "markdown",
      "source": [
        "Numero 3"
      ],
      "metadata": {
        "id": "kKFJNQD6G7K-"
      }
    },
    {
      "cell_type": "code",
      "source": [
        "# Importando json\n",
        "import json\n",
        "\n",
        "# Gravando os dados em uma variavel\n",
        "with open('dados.json', 'r') as arquivo:\n",
        "    dados = json.load(arquivo)\n",
        "\n",
        "# Excluindo os dias nos quais nao houve faturamento\n",
        "faturamento_filtrado = [dia for dia in dados if dia['valor'] != 0]\n",
        "\n",
        "# Definindo o menor e o maior faturamento\n",
        "menor_faturamento = min(faturamento_filtrado, key=lambda x: x['valor'])\n",
        "maior_faturamento = max(faturamento_filtrado, key=lambda x: x['valor'])\n",
        "\n",
        "# Calcular o faturamento total e a quantidade de dias\n",
        "faturamento_total = 0\n",
        "num_dias = len(dados)\n",
        "for dia in dados:\n",
        "  faturamento_total += dia['valor']\n",
        "\n",
        "# Calcular a média\n",
        "media = faturamento_total / num_dias\n",
        "\n",
        "# Filtrar e calcular a soma dos dias com faturamento acima da média\n",
        "soma_acima_media = 0\n",
        "dias_acima_media = 0\n",
        "for dia in dados:\n",
        "    if dia['valor'] > media:\n",
        "      dias_acima_media += 1\n",
        "\n",
        "print(f\"Menor faturamento: {menor_faturamento['dia']} - {menor_faturamento['valor']}\")\n",
        "print(f\"Maior faturamento: {maior_faturamento['dia']} - {maior_faturamento['valor']}\")\n",
        "print(f\"Número de dias com faturamento acima da média: {dias_acima_media}\")"
      ],
      "metadata": {
        "colab": {
          "base_uri": "https://localhost:8080/"
        },
        "id": "HzZGHwHE_ALW",
        "outputId": "65025378-fd0f-4c84-a2bd-8cecb86330ea"
      },
      "execution_count": 23,
      "outputs": [
        {
          "output_type": "stream",
          "name": "stdout",
          "text": [
            "Menor faturamento: 14 - 373.7838\n",
            "Maior faturamento: 16 - 48924.2448\n",
            "Número de dias com faturamento acima da média: 12\n"
          ]
        }
      ]
    },
    {
      "cell_type": "markdown",
      "source": [
        "Numero 4"
      ],
      "metadata": {
        "id": "c7e6VS-nG8vh"
      }
    },
    {
      "cell_type": "code",
      "source": [
        "# Criando variavel de cada estado\n",
        "sp = 67836.43\n",
        "rj = 36678.66\n",
        "mg = 29229.88\n",
        "es = 27165.48\n",
        "outros = 19849.5\n",
        "\n",
        "# Fazendo a soma do faturamento\n",
        "soma = sp + rj + mg + es + outros\n",
        "\n",
        "# Fazendo o percentual de cada estado\n",
        "sp_percentual = sp / soma\n",
        "rj_percentual = rj / soma\n",
        "mg_percentual = mg / soma\n",
        "es_percentual = es / soma\n",
        "outros_percentual = outros / soma\n",
        "\n",
        "print(f\"O percentual de representação de São Paulo é: {sp_percentual:.2f}%\")\n",
        "print(f\"O percentual de representação de Rio de Janeiro é: {rj_percentual:.2f}%\")\n",
        "print(f\"O percentual de representação de Minas Gerais é: {mg_percentual:.2f}%\")\n",
        "print(f\"O percentual de representação de Espirito Santo é: {es_percentual:.2f}%\")\n",
        "print(f\"O percentual de representação de Outros Estados é: {outros_percentual:.2f}%\")\n",
        "\n"
      ],
      "metadata": {
        "colab": {
          "base_uri": "https://localhost:8080/"
        },
        "id": "aEqS6KpIDcez",
        "outputId": "2b7d88b0-596e-4047-acf2-8f795dd46177"
      },
      "execution_count": 36,
      "outputs": [
        {
          "output_type": "stream",
          "name": "stdout",
          "text": [
            "O percentual de representação de São Paulo é: 0.38%\n",
            "O percentual de representação de Rio de Janeiro é: 0.20%\n",
            "O percentual de representação de Minas Gerais é: 0.16%\n",
            "O percentual de representação de Espirito Santo é: 0.15%\n",
            "O percentual de representação de Outros Estados é: 0.11%\n"
          ]
        }
      ]
    },
    {
      "cell_type": "markdown",
      "source": [
        "Numero 5"
      ],
      "metadata": {
        "id": "StD276SzG-Dm"
      }
    },
    {
      "cell_type": "code",
      "source": [
        "# Criando uma função que inverta a string\n",
        "def inverte_string(texto):\n",
        "  return texto[::-1]\n",
        "\n",
        "# Requisitando um texto\n",
        "texto = input(\"Digite um texto: \")\n",
        "\n",
        "# Invertendo o texto\n",
        "texto_invertido = inverte_string(texto)\n",
        "\n",
        "print(texto_invertido)"
      ],
      "metadata": {
        "colab": {
          "base_uri": "https://localhost:8080/"
        },
        "id": "ccWOgwldGGRx",
        "outputId": "8153349a-f8be-4d07-db49-8fea3594fa38"
      },
      "execution_count": 41,
      "outputs": [
        {
          "output_type": "stream",
          "name": "stdout",
          "text": [
            "Digite um texto: Matheus\n",
            "suehtaM\n"
          ]
        }
      ]
    }
  ]
}